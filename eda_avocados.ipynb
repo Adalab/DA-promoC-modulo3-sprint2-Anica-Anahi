{
 "cells": [
  {
   "cell_type": "code",
   "execution_count": 18,
   "metadata": {},
   "outputs": [],
   "source": [
    "import pandas as pd"
   ]
  },
  {
   "cell_type": "code",
   "execution_count": 19,
   "metadata": {},
   "outputs": [],
   "source": [
    "df= pd.read_csv(\"cali_avocados.csv\")"
   ]
  },
  {
   "cell_type": "code",
   "execution_count": 20,
   "metadata": {},
   "outputs": [
    {
     "data": {
      "text/html": [
       "<div>\n",
       "<style scoped>\n",
       "    .dataframe tbody tr th:only-of-type {\n",
       "        vertical-align: middle;\n",
       "    }\n",
       "\n",
       "    .dataframe tbody tr th {\n",
       "        vertical-align: top;\n",
       "    }\n",
       "\n",
       "    .dataframe thead th {\n",
       "        text-align: right;\n",
       "    }\n",
       "</style>\n",
       "<table border=\"1\" class=\"dataframe\">\n",
       "  <thead>\n",
       "    <tr style=\"text-align: right;\">\n",
       "      <th></th>\n",
       "      <th>Year</th>\n",
       "      <th>Commodity Code</th>\n",
       "      <th>Crop Name</th>\n",
       "      <th>County Code</th>\n",
       "      <th>County</th>\n",
       "      <th>Harvested Acres</th>\n",
       "      <th>Yield</th>\n",
       "      <th>Production</th>\n",
       "      <th>Price P/U</th>\n",
       "      <th>Unit</th>\n",
       "      <th>Value</th>\n",
       "    </tr>\n",
       "  </thead>\n",
       "  <tbody>\n",
       "    <tr>\n",
       "      <th>0</th>\n",
       "      <td>2020</td>\n",
       "      <td>221999</td>\n",
       "      <td>AVOCADOS ALL</td>\n",
       "      <td>53</td>\n",
       "      <td>Monterey</td>\n",
       "      <td>223</td>\n",
       "      <td>5.56</td>\n",
       "      <td>1240</td>\n",
       "      <td>2379.84</td>\n",
       "      <td>Tons</td>\n",
       "      <td>2951000</td>\n",
       "    </tr>\n",
       "    <tr>\n",
       "      <th>1</th>\n",
       "      <td>2020</td>\n",
       "      <td>221999</td>\n",
       "      <td>AVOCADOS ALL</td>\n",
       "      <td>65</td>\n",
       "      <td>Riverside</td>\n",
       "      <td>3020</td>\n",
       "      <td></td>\n",
       "      <td></td>\n",
       "      <td></td>\n",
       "      <td>Tons</td>\n",
       "      <td>88697000</td>\n",
       "    </tr>\n",
       "    <tr>\n",
       "      <th>2</th>\n",
       "      <td>2020</td>\n",
       "      <td>221999</td>\n",
       "      <td>AVOCADOS ALL</td>\n",
       "      <td>71</td>\n",
       "      <td>San Bernardino</td>\n",
       "      <td>370</td>\n",
       "      <td>2.16</td>\n",
       "      <td>799</td>\n",
       "      <td>2617.02</td>\n",
       "      <td>Tons</td>\n",
       "      <td>2091000</td>\n",
       "    </tr>\n",
       "    <tr>\n",
       "      <th>3</th>\n",
       "      <td>2020</td>\n",
       "      <td>221999</td>\n",
       "      <td>AVOCADOS ALL</td>\n",
       "      <td>73</td>\n",
       "      <td>San Diego</td>\n",
       "      <td>14400</td>\n",
       "      <td>3.51</td>\n",
       "      <td>50500</td>\n",
       "      <td>3028.87</td>\n",
       "      <td>Tons</td>\n",
       "      <td>152958000</td>\n",
       "    </tr>\n",
       "    <tr>\n",
       "      <th>4</th>\n",
       "      <td>2020</td>\n",
       "      <td>221999</td>\n",
       "      <td>AVOCADOS ALL</td>\n",
       "      <td>79</td>\n",
       "      <td>San Luis Obispo</td>\n",
       "      <td>4240</td>\n",
       "      <td>5.9</td>\n",
       "      <td>25000</td>\n",
       "      <td>1886.76</td>\n",
       "      <td>Tons</td>\n",
       "      <td>47169000</td>\n",
       "    </tr>\n",
       "  </tbody>\n",
       "</table>\n",
       "</div>"
      ],
      "text/plain": [
       "   Year   Commodity Code      Crop Name   County Code            County  \\\n",
       "0  2020           221999  AVOCADOS ALL             53         Monterey    \n",
       "1  2020           221999  AVOCADOS ALL             65        Riverside    \n",
       "2  2020           221999  AVOCADOS ALL             71   San Bernardino    \n",
       "3  2020           221999  AVOCADOS ALL             73        San Diego    \n",
       "4  2020           221999  AVOCADOS ALL             79  San Luis Obispo    \n",
       "\n",
       "   Harvested Acres  Yield  Production  Price P/U   Unit      Value  \n",
       "0              223   5.56        1240    2379.84  Tons     2951000  \n",
       "1             3020                                Tons    88697000  \n",
       "2              370   2.16         799    2617.02  Tons     2091000  \n",
       "3            14400   3.51       50500    3028.87  Tons   152958000  \n",
       "4             4240    5.9       25000    1886.76  Tons    47169000  "
      ]
     },
     "execution_count": 20,
     "metadata": {},
     "output_type": "execute_result"
    }
   ],
   "source": [
    "df.head()"
   ]
  },
  {
   "cell_type": "code",
   "execution_count": 21,
   "metadata": {},
   "outputs": [
    {
     "data": {
      "text/plain": [
       "Index(['Year', ' Commodity Code', ' Crop Name', ' County Code', ' County',\n",
       "       ' Harvested Acres', ' Yield', ' Production', ' Price P/U', ' Unit',\n",
       "       ' Value'],\n",
       "      dtype='object')"
      ]
     },
     "execution_count": 21,
     "metadata": {},
     "output_type": "execute_result"
    }
   ],
   "source": [
    "df.columns"
   ]
  },
  {
   "attachments": {},
   "cell_type": "markdown",
   "metadata": {},
   "source": [
    "Columnas:\n",
    "\n",
    "- Year = Año de observacion.\n",
    "- Commodity Code = Codigo de la mercancia( es el mismo para todos)\n",
    "- Crop Name =  Nombre del cultivo\n",
    "- County Code = Codigo del estado\n",
    "- County = Estado\n",
    "- Harvested Acres =  numero de acres cosechados\n",
    "- Yield = rendimiento de cosecha\n",
    "- Production = toneladas producidas\n",
    "- Price P/U = precio por tonelada\n",
    "- Unit = unidad de medida (toneladas)\n",
    "- Value = precio por produccion (en dolares)"
   ]
  },
  {
   "attachments": {},
   "cell_type": "markdown",
   "metadata": {},
   "source": [
    "---"
   ]
  },
  {
   "cell_type": "code",
   "execution_count": 22,
   "metadata": {},
   "outputs": [],
   "source": [
    "cambio_columnas = {col :  col.strip().replace(\" \",\"_\") for col in df.columns}"
   ]
  },
  {
   "cell_type": "code",
   "execution_count": 23,
   "metadata": {},
   "outputs": [],
   "source": [
    "df.rename(columns = cambio_columnas, inplace=True)"
   ]
  },
  {
   "cell_type": "code",
   "execution_count": 24,
   "metadata": {},
   "outputs": [
    {
     "data": {
      "text/plain": [
       "Index(['Year', 'Commodity_Code', 'Crop_Name', 'County_Code', 'County',\n",
       "       'Harvested_Acres', 'Yield', 'Production', 'Price_P/U', 'Unit', 'Value'],\n",
       "      dtype='object')"
      ]
     },
     "execution_count": 24,
     "metadata": {},
     "output_type": "execute_result"
    }
   ],
   "source": [
    "df.columns"
   ]
  },
  {
   "cell_type": "code",
   "execution_count": 26,
   "metadata": {},
   "outputs": [],
   "source": [
    "nombre_columnas= {'Year': 'Año', 'Commodity_Code' : \"Codigo Mercancia\", 'Crop_Name': 'Nombre del Cultivo', 'County_Code': 'Codigo del Estado', 'County':'Estado',\n",
    "       'Harvested_Acres':'Acres Cosechados', 'Yield':'Rendimiento', 'Production':'Produccion', 'Price_P/U': 'Precio USD', 'Unit' :'Unidad', 'Value':'Total USD'}"
   ]
  },
  {
   "cell_type": "code",
   "execution_count": 27,
   "metadata": {},
   "outputs": [],
   "source": [
    "df.rename(columns = nombre_columnas, inplace=True)"
   ]
  },
  {
   "attachments": {},
   "cell_type": "markdown",
   "metadata": {},
   "source": [
    "---"
   ]
  },
  {
   "cell_type": "code",
   "execution_count": 28,
   "metadata": {},
   "outputs": [
    {
     "data": {
      "text/html": [
       "<div>\n",
       "<style scoped>\n",
       "    .dataframe tbody tr th:only-of-type {\n",
       "        vertical-align: middle;\n",
       "    }\n",
       "\n",
       "    .dataframe tbody tr th {\n",
       "        vertical-align: top;\n",
       "    }\n",
       "\n",
       "    .dataframe thead th {\n",
       "        text-align: right;\n",
       "    }\n",
       "</style>\n",
       "<table border=\"1\" class=\"dataframe\">\n",
       "  <thead>\n",
       "    <tr style=\"text-align: right;\">\n",
       "      <th></th>\n",
       "      <th>Año</th>\n",
       "      <th>Codigo Mercancia</th>\n",
       "      <th>Nombre del Cultivo</th>\n",
       "      <th>Codigo del Estado</th>\n",
       "      <th>Estado</th>\n",
       "      <th>Acres Cosechados</th>\n",
       "      <th>Rendimiento</th>\n",
       "      <th>Produccion</th>\n",
       "      <th>Precio USD</th>\n",
       "      <th>Unidad</th>\n",
       "      <th>Total USD</th>\n",
       "    </tr>\n",
       "  </thead>\n",
       "  <tbody>\n",
       "    <tr>\n",
       "      <th>0</th>\n",
       "      <td>2020</td>\n",
       "      <td>221999</td>\n",
       "      <td>AVOCADOS ALL</td>\n",
       "      <td>53</td>\n",
       "      <td>Monterey</td>\n",
       "      <td>223</td>\n",
       "      <td>5.56</td>\n",
       "      <td>1240</td>\n",
       "      <td>2379.84</td>\n",
       "      <td>Tons</td>\n",
       "      <td>2951000</td>\n",
       "    </tr>\n",
       "    <tr>\n",
       "      <th>1</th>\n",
       "      <td>2020</td>\n",
       "      <td>221999</td>\n",
       "      <td>AVOCADOS ALL</td>\n",
       "      <td>65</td>\n",
       "      <td>Riverside</td>\n",
       "      <td>3020</td>\n",
       "      <td></td>\n",
       "      <td></td>\n",
       "      <td></td>\n",
       "      <td>Tons</td>\n",
       "      <td>88697000</td>\n",
       "    </tr>\n",
       "    <tr>\n",
       "      <th>2</th>\n",
       "      <td>2020</td>\n",
       "      <td>221999</td>\n",
       "      <td>AVOCADOS ALL</td>\n",
       "      <td>71</td>\n",
       "      <td>San Bernardino</td>\n",
       "      <td>370</td>\n",
       "      <td>2.16</td>\n",
       "      <td>799</td>\n",
       "      <td>2617.02</td>\n",
       "      <td>Tons</td>\n",
       "      <td>2091000</td>\n",
       "    </tr>\n",
       "    <tr>\n",
       "      <th>3</th>\n",
       "      <td>2020</td>\n",
       "      <td>221999</td>\n",
       "      <td>AVOCADOS ALL</td>\n",
       "      <td>73</td>\n",
       "      <td>San Diego</td>\n",
       "      <td>14400</td>\n",
       "      <td>3.51</td>\n",
       "      <td>50500</td>\n",
       "      <td>3028.87</td>\n",
       "      <td>Tons</td>\n",
       "      <td>152958000</td>\n",
       "    </tr>\n",
       "    <tr>\n",
       "      <th>4</th>\n",
       "      <td>2020</td>\n",
       "      <td>221999</td>\n",
       "      <td>AVOCADOS ALL</td>\n",
       "      <td>79</td>\n",
       "      <td>San Luis Obispo</td>\n",
       "      <td>4240</td>\n",
       "      <td>5.9</td>\n",
       "      <td>25000</td>\n",
       "      <td>1886.76</td>\n",
       "      <td>Tons</td>\n",
       "      <td>47169000</td>\n",
       "    </tr>\n",
       "  </tbody>\n",
       "</table>\n",
       "</div>"
      ],
      "text/plain": [
       "    Año  Codigo Mercancia Nombre del Cultivo  Codigo del Estado  \\\n",
       "0  2020            221999      AVOCADOS ALL                  53   \n",
       "1  2020            221999      AVOCADOS ALL                  65   \n",
       "2  2020            221999      AVOCADOS ALL                  71   \n",
       "3  2020            221999      AVOCADOS ALL                  73   \n",
       "4  2020            221999      AVOCADOS ALL                  79   \n",
       "\n",
       "             Estado Acres Cosechados Rendimiento Produccion Precio USD Unidad  \\\n",
       "0         Monterey               223        5.56       1240    2379.84  Tons    \n",
       "1        Riverside              3020                                    Tons    \n",
       "2   San Bernardino               370        2.16        799    2617.02  Tons    \n",
       "3        San Diego             14400        3.51      50500    3028.87  Tons    \n",
       "4  San Luis Obispo              4240         5.9      25000    1886.76  Tons    \n",
       "\n",
       "   Total USD  \n",
       "0    2951000  \n",
       "1   88697000  \n",
       "2    2091000  \n",
       "3  152958000  \n",
       "4   47169000  "
      ]
     },
     "execution_count": 28,
     "metadata": {},
     "output_type": "execute_result"
    }
   ],
   "source": [
    "df.head()"
   ]
  },
  {
   "cell_type": "code",
   "execution_count": null,
   "metadata": {},
   "outputs": [
    {
     "data": {
      "text/plain": [
       "(420, 11)"
      ]
     },
     "execution_count": 7,
     "metadata": {},
     "output_type": "execute_result"
    }
   ],
   "source": [
    "df.shape"
   ]
  },
  {
   "cell_type": "code",
   "execution_count": null,
   "metadata": {},
   "outputs": [
    {
     "data": {
      "text/plain": [
       "0"
      ]
     },
     "execution_count": 9,
     "metadata": {},
     "output_type": "execute_result"
    }
   ],
   "source": [
    "df.duplicated().sum()"
   ]
  },
  {
   "cell_type": "code",
   "execution_count": null,
   "metadata": {},
   "outputs": [
    {
     "data": {
      "text/plain": [
       "Year                0\n",
       " Commodity Code     0\n",
       " Crop Name          0\n",
       " County Code        0\n",
       " County             0\n",
       " Harvested Acres    0\n",
       " Yield              0\n",
       " Production         0\n",
       " Price P/U          0\n",
       " Unit               0\n",
       " Value              0\n",
       "dtype: int64"
      ]
     },
     "execution_count": 10,
     "metadata": {},
     "output_type": "execute_result"
    }
   ],
   "source": [
    "df.isnull().sum()"
   ]
  },
  {
   "cell_type": "code",
   "execution_count": null,
   "metadata": {},
   "outputs": [
    {
     "name": "stdout",
     "output_type": "stream",
     "text": [
      "<class 'pandas.core.frame.DataFrame'>\n",
      "RangeIndex: 420 entries, 0 to 419\n",
      "Data columns (total 11 columns):\n",
      " #   Column            Non-Null Count  Dtype \n",
      "---  ------            --------------  ----- \n",
      " 0   Year              420 non-null    int64 \n",
      " 1    Commodity Code   420 non-null    int64 \n",
      " 2    Crop Name        420 non-null    object\n",
      " 3    County Code      420 non-null    int64 \n",
      " 4    County           420 non-null    object\n",
      " 5    Harvested Acres  420 non-null    object\n",
      " 6    Yield            420 non-null    object\n",
      " 7    Production       420 non-null    object\n",
      " 8    Price P/U        420 non-null    object\n",
      " 9    Unit             420 non-null    object\n",
      " 10   Value            420 non-null    object\n",
      "dtypes: int64(3), object(8)\n",
      "memory usage: 36.2+ KB\n"
     ]
    }
   ],
   "source": [
    "df.info()"
   ]
  },
  {
   "cell_type": "code",
   "execution_count": 29,
   "metadata": {},
   "outputs": [],
   "source": [
    "df.to_csv(\"aguacate_limpio.csv\", index=False)"
   ]
  }
 ],
 "metadata": {
  "kernelspec": {
   "display_name": "base",
   "language": "python",
   "name": "python3"
  },
  "language_info": {
   "codemirror_mode": {
    "name": "ipython",
    "version": 3
   },
   "file_extension": ".py",
   "mimetype": "text/x-python",
   "name": "python",
   "nbconvert_exporter": "python",
   "pygments_lexer": "ipython3",
   "version": "3.9.13"
  },
  "orig_nbformat": 4,
  "vscode": {
   "interpreter": {
    "hash": "a52af493819045717511545598ab2b73dabca4ca61b402315e0ef2b43666342d"
   }
  }
 },
 "nbformat": 4,
 "nbformat_minor": 2
}
