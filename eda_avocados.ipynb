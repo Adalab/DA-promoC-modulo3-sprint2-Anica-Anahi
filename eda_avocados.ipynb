{
 "cells": [
  {
   "cell_type": "code",
   "execution_count": null,
   "metadata": {},
   "outputs": [],
   "source": [
    "import pandas as pd\n",
    "import geopy "
   ]
  },
  {
   "cell_type": "markdown",
   "metadata": {},
   "source": [
    "## Archivo aguacates California"
   ]
  },
  {
   "cell_type": "code",
   "execution_count": null,
   "metadata": {},
   "outputs": [],
   "source": [
    "df= pd.read_csv(\"cali_avocados.csv\")"
   ]
  },
  {
   "cell_type": "code",
   "execution_count": null,
   "metadata": {},
   "outputs": [],
   "source": [
    "df.head()"
   ]
  },
  {
   "cell_type": "code",
   "execution_count": null,
   "metadata": {},
   "outputs": [],
   "source": [
    "df.columns"
   ]
  },
  {
   "attachments": {},
   "cell_type": "markdown",
   "metadata": {},
   "source": [
    "Columnas:\n",
    "\n",
    "- Year = Año de observacion.\n",
    "- Commodity Code = Codigo de la mercancia( es el mismo para todos)\n",
    "- Crop Name =  Nombre del cultivo\n",
    "- County Code = Codigo del estado\n",
    "- County = Estado\n",
    "- Harvested Acres =  numero de acres cosechados\n",
    "- Yield = rendimiento de cosecha\n",
    "- Production = toneladas producidas\n",
    "- Price P/U = precio por tonelada\n",
    "- Unit = unidad de medida (toneladas)\n",
    "- Value = precio por produccion (en dolares)"
   ]
  },
  {
   "attachments": {},
   "cell_type": "markdown",
   "metadata": {},
   "source": [
    "---"
   ]
  },
  {
   "cell_type": "code",
   "execution_count": null,
   "metadata": {},
   "outputs": [],
   "source": [
    "cambio_columnas = {col :  col.strip().replace(\" \",\"_\") for col in df.columns}"
   ]
  },
  {
   "cell_type": "code",
   "execution_count": null,
   "metadata": {},
   "outputs": [],
   "source": [
    "df.rename(columns = cambio_columnas, inplace=True)"
   ]
  },
  {
   "cell_type": "code",
   "execution_count": null,
   "metadata": {},
   "outputs": [],
   "source": [
    "df.columns"
   ]
  },
  {
   "cell_type": "code",
   "execution_count": null,
   "metadata": {},
   "outputs": [],
   "source": [
    "nombre_columnas= {'Year': 'Año', 'Commodity_Code' : \"Codigo Mercancia\", 'Crop_Name': 'Nombre del Cultivo', 'County_Code': 'Codigo del Estado', 'County':'Estado',\n",
    "       'Harvested_Acres':'Acres Cosechados', 'Yield':'Rendimiento', 'Production':'Produccion', 'Price_P/U': 'Precio USD', 'Unit' :'Unidad', 'Value':'Total USD'}"
   ]
  },
  {
   "cell_type": "code",
   "execution_count": null,
   "metadata": {},
   "outputs": [],
   "source": [
    "df.rename(columns = nombre_columnas, inplace=True)"
   ]
  },
  {
   "attachments": {},
   "cell_type": "markdown",
   "metadata": {},
   "source": [
    "---"
   ]
  },
  {
   "cell_type": "code",
   "execution_count": null,
   "metadata": {},
   "outputs": [],
   "source": [
    "df.head()"
   ]
  },
  {
   "cell_type": "code",
   "execution_count": null,
   "metadata": {},
   "outputs": [],
   "source": [
    "df.shape"
   ]
  },
  {
   "cell_type": "code",
   "execution_count": null,
   "metadata": {},
   "outputs": [],
   "source": [
    "df.duplicated().sum()"
   ]
  },
  {
   "cell_type": "code",
   "execution_count": null,
   "metadata": {},
   "outputs": [],
   "source": [
    "df.isnull().sum()"
   ]
  },
  {
   "cell_type": "code",
   "execution_count": null,
   "metadata": {},
   "outputs": [],
   "source": [
    "df.info()"
   ]
  },
  {
   "cell_type": "code",
   "execution_count": null,
   "metadata": {},
   "outputs": [],
   "source": [
    "df['Region'] = 'California'"
   ]
  },
  {
   "cell_type": "code",
   "execution_count": null,
   "metadata": {},
   "outputs": [],
   "source": [
    "df.head()"
   ]
  },
  {
   "cell_type": "code",
   "execution_count": null,
   "metadata": {},
   "outputs": [],
   "source": [
    "df.to_csv(\"aguacate_limpio.csv\", index=False)"
   ]
  },
  {
   "attachments": {},
   "cell_type": "markdown",
   "metadata": {},
   "source": [
    "---"
   ]
  },
  {
   "attachments": {},
   "cell_type": "markdown",
   "metadata": {},
   "source": [
    "## Archivo de Aguacates USA"
   ]
  },
  {
   "cell_type": "code",
   "execution_count": null,
   "metadata": {},
   "outputs": [],
   "source": [
    "df2= pd.read_csv(\"avocado.csv\",index_col=0)\n",
    "df2.head()"
   ]
  },
  {
   "cell_type": "code",
   "execution_count": null,
   "metadata": {},
   "outputs": [],
   "source": [
    "df2.shape"
   ]
  },
  {
   "cell_type": "code",
   "execution_count": null,
   "metadata": {},
   "outputs": [],
   "source": [
    "df2.groupby(\"region\")[\"Total Volume\"].sum().reset_index().sort_values(by=\"Total Volume\", ascending=False)"
   ]
  },
  {
   "attachments": {},
   "cell_type": "markdown",
   "metadata": {},
   "source": [
    "---"
   ]
  },
  {
   "cell_type": "code",
   "execution_count": null,
   "metadata": {},
   "outputs": [],
   "source": [
    "df2.columns"
   ]
  },
  {
   "cell_type": "code",
   "execution_count": null,
   "metadata": {},
   "outputs": [],
   "source": [
    "nombre_columnas2= {'Date': 'Fecha', 'AveragePrice':'Precio Promedio', 'Total Volume': 'Volumen Total', '4046':'4046', '4225':'4225', '4770':'4770',\n",
    "       'Total Bags': 'Bolsas Total', 'Small Bags':'Bolsas Pequeñas', 'Large Bags':'Bolsas Grandes', 'XLarge Bags':'Bolsa Extra Grande', 'type': 'Tipo', 'year':'Año',\n",
    "       'region':'Region'}"
   ]
  },
  {
   "cell_type": "code",
   "execution_count": null,
   "metadata": {},
   "outputs": [],
   "source": [
    "df2.rename(columns = nombre_columnas2, inplace=True)"
   ]
  },
  {
   "cell_type": "code",
   "execution_count": null,
   "metadata": {},
   "outputs": [],
   "source": [
    "df2.head()"
   ]
  },
  {
   "cell_type": "code",
   "execution_count": null,
   "metadata": {},
   "outputs": [],
   "source": [
    "# importing geopy library\n",
    "from geopy.geocoders import Nominatim\n",
    "\n",
    "# calling the Nominatim tool\n",
    "loc = Nominatim(user_agent=\"GetLoc\")\n"
   ]
  },
  {
   "cell_type": "code",
   "execution_count": null,
   "metadata": {},
   "outputs": [],
   "source": [
    "def latitud (col):\n",
    "    getLoc = loc.geocode(col)\n",
    "    return getLoc[1][0]"
   ]
  },
  {
   "cell_type": "code",
   "execution_count": null,
   "metadata": {},
   "outputs": [],
   "source": [
    "def longitud (col):\n",
    "    getLoc = loc.geocode(col)\n",
    "    return getLoc[1][1]"
   ]
  },
  {
   "attachments": {},
   "cell_type": "markdown",
   "metadata": {},
   "source": [
    "---"
   ]
  },
  {
   "attachments": {},
   "cell_type": "markdown",
   "metadata": {},
   "source": [
    "### Crear columna que contenga estados sobre dataset de USA TOTAL"
   ]
  },
  {
   "cell_type": "code",
   "execution_count": null,
   "metadata": {},
   "outputs": [],
   "source": [
    "df2.Region.unique()"
   ]
  },
  {
   "cell_type": "code",
   "execution_count": null,
   "metadata": {},
   "outputs": [],
   "source": [
    "\n",
    "estados= {'Albany': 'Oregon', 'Atlanta':'Georgia','BaltimoreWashington':'Maryland', 'Boise': 'Idaho',\n",
    "'Boston': 'Massachusetts','BuffaloRochester':'Nueva York', 'California':'California', 'Charlotte': 'Carolina del Norte',\n",
    "'Chicago':'Illinois','CincinnatiDayton': 'Ohio', 'Columbus':'Ohio' , 'DallasFtWorth': 'Tejas', 'Denver':'Colorado',\n",
    "'Detroit':'Michigan', 'GrandRapids': 'Michigan' , 'GreatLakes': 'Total Grandes Lagos', 'HarrisburgScranton':'Pensilvania',\n",
    "'HartfordSpringfield': 'Connecticut', 'Houston':'Tejas', 'Indianapolis':'Indiana', 'Jacksonville':'Florida','LasVegas': 'Nevada',\n",
    "'LosAngeles': 'California', 'Louisville':'Kentucky', 'MiamiFtLauderdale':'Florida','Midsouth':'Total Medio Sur',\n",
    "'Nashville': 'Tennessee', 'NewOrleansMobile':'Luisiana', 'NewYork': 'Nueva York','Northeast': 'Total NorEste',\n",
    "'NorthernNewEngland': 'Maine', 'Orlando': 'Florida', 'Philadelphia': 'Pensilvania','PhoenixTucson': 'Arizona',\n",
    "'Pittsburgh': 'Pensilvania', 'Plains':'Tejas', 'Portland': 'Oregon','RaleighGreensboro':'Carolina del Norte',\n",
    "'RichmondNorfolk': 'Virginia', 'Roanoke': 'Virginia', 'Sacramento':'California','SanDiego':'California',\n",
    "'SanFrancisco': 'California', 'Seattle': 'Washington', 'SouthCarolina': 'Carolina del Sur','SouthCentral': 'Total Sur',\n",
    "'Southeast':'Total SurEste', 'Spokane':'Washington', 'StLouis': 'Misuri', 'Syracuse':'Nueva York','Tampa': 'Florida',\n",
    "'TotalUS': 'Total USA', 'West':'Total Oeste', 'WestTexNewMexico': 'Nuevo México'}"
   ]
  },
  {
   "cell_type": "code",
   "execution_count": null,
   "metadata": {},
   "outputs": [],
   "source": [
    "df2[\"Estados\"]=df2[\"Region\"].map(estados)"
   ]
  },
  {
   "cell_type": "code",
   "execution_count": null,
   "metadata": {},
   "outputs": [],
   "source": [
    "df2.head()"
   ]
  },
  {
   "cell_type": "code",
   "execution_count": null,
   "metadata": {},
   "outputs": [],
   "source": [
    "df2.Estados.unique()"
   ]
  },
  {
   "cell_type": "code",
   "execution_count": null,
   "metadata": {},
   "outputs": [],
   "source": [
    "df2.to_csv(\"aguacate_usa.csv\", index=False)"
   ]
  },
  {
   "cell_type": "code",
   "execution_count": 37,
   "metadata": {},
   "outputs": [
    {
     "data": {
      "text/html": [
       "<div>\n",
       "<style scoped>\n",
       "    .dataframe tbody tr th:only-of-type {\n",
       "        vertical-align: middle;\n",
       "    }\n",
       "\n",
       "    .dataframe tbody tr th {\n",
       "        vertical-align: top;\n",
       "    }\n",
       "\n",
       "    .dataframe thead th {\n",
       "        text-align: right;\n",
       "    }\n",
       "</style>\n",
       "<table border=\"1\" class=\"dataframe\">\n",
       "  <thead>\n",
       "    <tr style=\"text-align: right;\">\n",
       "      <th></th>\n",
       "      <th>Fecha</th>\n",
       "      <th>Precio Promedio</th>\n",
       "      <th>Volumen Total</th>\n",
       "      <th>4046</th>\n",
       "      <th>4225</th>\n",
       "      <th>4770</th>\n",
       "      <th>Bolsas Total</th>\n",
       "      <th>Bolsas Pequeñas</th>\n",
       "      <th>Bolsas Grandes</th>\n",
       "      <th>Bolsa Extra Grande</th>\n",
       "      <th>Tipo</th>\n",
       "      <th>Año</th>\n",
       "      <th>Region</th>\n",
       "      <th>Estados</th>\n",
       "    </tr>\n",
       "  </thead>\n",
       "  <tbody>\n",
       "    <tr>\n",
       "      <th>0</th>\n",
       "      <td>2015-12-27</td>\n",
       "      <td>1.33</td>\n",
       "      <td>64236.62</td>\n",
       "      <td>1036.74</td>\n",
       "      <td>54454.85</td>\n",
       "      <td>48.16</td>\n",
       "      <td>8696.87</td>\n",
       "      <td>8603.62</td>\n",
       "      <td>93.25</td>\n",
       "      <td>0.0</td>\n",
       "      <td>conventional</td>\n",
       "      <td>2015</td>\n",
       "      <td>Albany</td>\n",
       "      <td>Oregon</td>\n",
       "    </tr>\n",
       "    <tr>\n",
       "      <th>1</th>\n",
       "      <td>2015-12-20</td>\n",
       "      <td>1.35</td>\n",
       "      <td>54876.98</td>\n",
       "      <td>674.28</td>\n",
       "      <td>44638.81</td>\n",
       "      <td>58.33</td>\n",
       "      <td>9505.56</td>\n",
       "      <td>9408.07</td>\n",
       "      <td>97.49</td>\n",
       "      <td>0.0</td>\n",
       "      <td>conventional</td>\n",
       "      <td>2015</td>\n",
       "      <td>Albany</td>\n",
       "      <td>Oregon</td>\n",
       "    </tr>\n",
       "    <tr>\n",
       "      <th>2</th>\n",
       "      <td>2015-12-13</td>\n",
       "      <td>0.93</td>\n",
       "      <td>118220.22</td>\n",
       "      <td>794.70</td>\n",
       "      <td>109149.67</td>\n",
       "      <td>130.50</td>\n",
       "      <td>8145.35</td>\n",
       "      <td>8042.21</td>\n",
       "      <td>103.14</td>\n",
       "      <td>0.0</td>\n",
       "      <td>conventional</td>\n",
       "      <td>2015</td>\n",
       "      <td>Albany</td>\n",
       "      <td>Oregon</td>\n",
       "    </tr>\n",
       "    <tr>\n",
       "      <th>3</th>\n",
       "      <td>2015-12-06</td>\n",
       "      <td>1.08</td>\n",
       "      <td>78992.15</td>\n",
       "      <td>1132.00</td>\n",
       "      <td>71976.41</td>\n",
       "      <td>72.58</td>\n",
       "      <td>5811.16</td>\n",
       "      <td>5677.40</td>\n",
       "      <td>133.76</td>\n",
       "      <td>0.0</td>\n",
       "      <td>conventional</td>\n",
       "      <td>2015</td>\n",
       "      <td>Albany</td>\n",
       "      <td>Oregon</td>\n",
       "    </tr>\n",
       "    <tr>\n",
       "      <th>4</th>\n",
       "      <td>2015-11-29</td>\n",
       "      <td>1.28</td>\n",
       "      <td>51039.60</td>\n",
       "      <td>941.48</td>\n",
       "      <td>43838.39</td>\n",
       "      <td>75.78</td>\n",
       "      <td>6183.95</td>\n",
       "      <td>5986.26</td>\n",
       "      <td>197.69</td>\n",
       "      <td>0.0</td>\n",
       "      <td>conventional</td>\n",
       "      <td>2015</td>\n",
       "      <td>Albany</td>\n",
       "      <td>Oregon</td>\n",
       "    </tr>\n",
       "  </tbody>\n",
       "</table>\n",
       "</div>"
      ],
      "text/plain": [
       "        Fecha  Precio Promedio  Volumen Total     4046       4225    4770  \\\n",
       "0  2015-12-27             1.33       64236.62  1036.74   54454.85   48.16   \n",
       "1  2015-12-20             1.35       54876.98   674.28   44638.81   58.33   \n",
       "2  2015-12-13             0.93      118220.22   794.70  109149.67  130.50   \n",
       "3  2015-12-06             1.08       78992.15  1132.00   71976.41   72.58   \n",
       "4  2015-11-29             1.28       51039.60   941.48   43838.39   75.78   \n",
       "\n",
       "   Bolsas Total  Bolsas Pequeñas  Bolsas Grandes  Bolsa Extra Grande  \\\n",
       "0       8696.87          8603.62           93.25                 0.0   \n",
       "1       9505.56          9408.07           97.49                 0.0   \n",
       "2       8145.35          8042.21          103.14                 0.0   \n",
       "3       5811.16          5677.40          133.76                 0.0   \n",
       "4       6183.95          5986.26          197.69                 0.0   \n",
       "\n",
       "           Tipo   Año  Region Estados  \n",
       "0  conventional  2015  Albany  Oregon  \n",
       "1  conventional  2015  Albany  Oregon  \n",
       "2  conventional  2015  Albany  Oregon  \n",
       "3  conventional  2015  Albany  Oregon  \n",
       "4  conventional  2015  Albany  Oregon  "
      ]
     },
     "execution_count": 37,
     "metadata": {},
     "output_type": "execute_result"
    }
   ],
   "source": [
    "df2.head()"
   ]
  },
  {
   "cell_type": "code",
   "execution_count": null,
   "metadata": {},
   "outputs": [],
   "source": [
    "df2.Año.value_counts()"
   ]
  },
  {
   "attachments": {},
   "cell_type": "markdown",
   "metadata": {},
   "source": [
    "---"
   ]
  }
 ],
 "metadata": {
  "kernelspec": {
   "display_name": "base",
   "language": "python",
   "name": "python3"
  },
  "language_info": {
   "codemirror_mode": {
    "name": "ipython",
    "version": 3
   },
   "file_extension": ".py",
   "mimetype": "text/x-python",
   "name": "python",
   "nbconvert_exporter": "python",
   "pygments_lexer": "ipython3",
   "version": "3.9.13"
  },
  "orig_nbformat": 4,
  "vscode": {
   "interpreter": {
    "hash": "a52af493819045717511545598ab2b73dabca4ca61b402315e0ef2b43666342d"
   }
  }
 },
 "nbformat": 4,
 "nbformat_minor": 2
}
